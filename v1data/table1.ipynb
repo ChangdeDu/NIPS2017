{
 "cells": [
  {
   "cell_type": "code",
   "execution_count": 1,
   "metadata": {
    "collapsed": false,
    "deletable": true,
    "editable": true
   },
   "outputs": [
    {
     "name": "stdout",
     "output_type": "stream",
     "text": [
      "DataJoint 0.7.2 (June 1, 2017)\n",
      "Loading settings from /gpfs01/bethge/home/aecker/.datajoint_config.json\n",
      "Connecting aecker@52.202.15.166:3306\n"
     ]
    }
   ],
   "source": [
    "%load_ext autoreload\n",
    "%autoreload 2\n",
    "%matplotlib inline\n",
    "import numpy as np\n",
    "import datajoint as dj\n",
    "from database import LnpFit, Net, Fit, NetFC, FitFC, NetFixedMask, FitFixedMask\n",
    "from collections import OrderedDict\n",
    "import tensorflow as tf"
   ]
  },
  {
   "cell_type": "markdown",
   "metadata": {
    "deletable": true,
    "editable": true
   },
   "source": [
    "# Fit models\n",
    "\n",
    "We run a grid search over multiple network architectures and regualrization settings. The model fits are stored in a database (using [DataJoint](https://datajoint.io)). The database is populated by running the Python script `populate.py`.\n",
    "\n",
    "### Where is the code for fitting the models?\n",
    "\n",
    "The implementations of the convolutional neural networks can be found in the module `convnet.py` in the class `ConvNet`. The grid search is implemented in the database framework (module `database.py`, class `Fit`)."
   ]
  },
  {
   "cell_type": "markdown",
   "metadata": {
    "deletable": true,
    "editable": true
   },
   "source": [
    "# Table with results"
   ]
  },
  {
   "cell_type": "code",
   "execution_count": 2,
   "metadata": {
    "collapsed": false,
    "deletable": true,
    "editable": true
   },
   "outputs": [],
   "source": [
    "def fetch_best(rel, *args):\n",
    "    results = rel.fetch(*args, order_by='val_loss', limit=1)\n",
    "    return [r[0] for r in results]\n",
    "\n",
    "def get_n_layer_nets(region_num, num_layers):\n",
    "    return list(Net().aggregate(\n",
    "        Net.ConvLayer(), num_layers='count(*)').restrict(\n",
    "        dict(region_num=region_num, num_layers=num_layers)).fetch(dj.key))"
   ]
  },
  {
   "cell_type": "code",
   "execution_count": 3,
   "metadata": {
    "collapsed": false,
    "deletable": true,
    "editable": true
   },
   "outputs": [],
   "source": [
    "num_neurons = [103, 55, 102]\n",
    "test_corrs = OrderedDict((\n",
    "    ('Antolik', [0.51, 0.43, 0.46]),\n",
    "    ('LNP', []),\n",
    "    ('CNN 1 layer', []),\n",
    "    ('CNN 2 layers', []),\n",
    "    ('CNN 3 layers', []),\n",
    "    ('CNN fully-connected readout', []),\n",
    "    ('CNN fixed mask', []),\n",
    "))\n",
    "val_loss = OrderedDict((\n",
    "    ('Antolik', [0, 0, 0]),\n",
    "    ('LNP', []),\n",
    "    ('CNN 1 layer', []),\n",
    "    ('CNN 2 layers', []),\n",
    "    ('CNN 3 layers', []),\n",
    "    ('CNN fully-connected readout', []),\n",
    "    ('CNN fixed mask', []),\n",
    "))\n",
    "best_net_key = OrderedDict((\n",
    "    ('Antolik', []),\n",
    "    ('LNP', []),\n",
    "    ('CNN 1 layer', []),\n",
    "    ('CNN 2 layers', []),\n",
    "    ('CNN 3 layers', []),\n",
    "    ('CNN fully-connected readout', []),\n",
    "    ('CNN fixed mask', []),\n",
    "))"
   ]
  },
  {
   "cell_type": "code",
   "execution_count": 4,
   "metadata": {
    "collapsed": false,
    "deletable": true,
    "editable": true
   },
   "outputs": [],
   "source": [
    "for region_num in range(1, 4):\n",
    "    region_key = {'region_num': region_num}\n",
    "    r, l, k = fetch_best(LnpFit() & region_key, 'avg_corr', 'val_loss', dj.key)\n",
    "    test_corrs['LNP'].append(r)\n",
    "    val_loss['LNP'].append(l)\n",
    "    best_net_key['LNP'].append(k)\n",
    "    for n in range(1, 4):\n",
    "        keys = get_n_layer_nets(region_num, num_layers=n)\n",
    "        r, l, k = fetch_best(Fit() & region_key & keys, 'avg_corr', 'val_loss', dj.key)\n",
    "        cnn = 'CNN {:d} layer'.format(n) + ('s' if n > 1 else '')\n",
    "        test_corrs[cnn].append(r)\n",
    "        val_loss[cnn].append(l)\n",
    "        best_net_key[cnn].append(k)\n",
    "\n",
    "    r, l, k = fetch_best(FitFC() & region_key, 'avg_corr', 'val_loss', dj.key)\n",
    "    test_corrs['CNN fully-connected readout'].append(r)\n",
    "    val_loss['CNN fully-connected readout'].append(l)\n",
    "    best_net_key['CNN fully-connected readout'].append(k)\n",
    "    r, l, k = fetch_best(FitFixedMask() & region_key, 'avg_corr', 'val_loss', dj.key)\n",
    "    test_corrs['CNN fixed mask'].append(r)\n",
    "    val_loss['CNN fixed mask'].append(l)\n",
    "    best_net_key['CNN fixed mask'].append(k)"
   ]
  },
  {
   "cell_type": "code",
   "execution_count": 5,
   "metadata": {
    "collapsed": false,
    "deletable": true,
    "editable": true
   },
   "outputs": [
    {
     "name": "stdout",
     "output_type": "stream",
     "text": [
      "Average correlations on test set\n",
      "Region                              1      2      3    Avg\n",
      "----------------------------------------------------------\n",
      "Antolik                          0.51   0.43   0.46   0.47\n",
      "LNP                              0.37   0.30   0.38   0.36\n",
      "CNN 1 layer                      0.38   0.32   0.35   0.35\n",
      "CNN 2 layers                     0.53   0.43   0.47   0.49\n",
      "CNN 3 layers                     0.55   0.45   0.49   0.50\n",
      "CNN fully-connected readout      0.47   0.34   0.43   0.43\n",
      "CNN fixed mask                   0.45   0.38   0.41   0.42\n",
      " \n",
      "Loss on validation set\n",
      "Region                              1      2      3\n",
      "---------------------------------------------------\n",
      "Antolik                          0.00   0.00   0.00\n",
      "LNP                             84.09  46.01  85.44\n",
      "CNN 1 layer                     84.47  46.26  86.31\n",
      "CNN 2 layers                    80.04  43.65  80.65\n",
      "CNN 3 layers                    79.57  43.62  80.27\n",
      "CNN fully-connected readout     82.03  45.25  83.56\n",
      "CNN fixed mask                  81.51  45.02  83.81\n",
      " \n"
     ]
    }
   ],
   "source": [
    "def results_table(results, n=None):\n",
    "    print_avg = (n is not None)\n",
    "    row = '{:30s}'.format('Region')\n",
    "    for i in range(3):\n",
    "        row += '  {:5d}'.format(i+1)\n",
    "    if print_avg:\n",
    "        row += '    Avg'\n",
    "    print(row)\n",
    "    print((58 if print_avg else 51) * '-')\n",
    "    for model, val in results.items():\n",
    "        row = '{:30s}'.format(model)\n",
    "        for v in val:\n",
    "            row += '  {:5.2f}'.format(v)\n",
    "        if print_avg:\n",
    "            avg = np.sum(np.array(val) * np.array(n)) / np.sum(n)\n",
    "            row += '  {:5.2f}'.format(avg)\n",
    "        print(row)\n",
    "    print(' ')\n",
    "\n",
    "print('Average correlations on test set')\n",
    "results_table(test_corrs, num_neurons)\n",
    "\n",
    "print('Loss on validation set')\n",
    "results_table(val_loss)"
   ]
  },
  {
   "cell_type": "markdown",
   "metadata": {
    "deletable": true,
    "editable": true
   },
   "source": [
    "# Network architectures of best-performing networks\n",
    "\n",
    "### Our CNN"
   ]
  },
  {
   "cell_type": "code",
   "execution_count": 6,
   "metadata": {
    "collapsed": false,
    "deletable": true,
    "editable": true
   },
   "outputs": [
    {
     "name": "stdout",
     "output_type": "stream",
     "text": [
      "Region 1\n",
      "*net_id    *layer_num    filter_size    out_channels   stride     padding     rel_smooth_wei rel_sparse_wei\n",
      "+--------+ +-----------+ +------------+ +------------+ +--------+ +---------+ +------------+ +------------+\n",
      "6          1             13             48             1          VALID       1.0            0.0           \n",
      "6          2             3              48             1          SAME        0.0            1.0           \n",
      "6          3             3              48             1          SAME        0.0            1.0           \n",
      " (3 tuples)\n",
      "\n",
      "Region 2\n",
      "*net_id    *layer_num    filter_size    out_channels   stride     padding     rel_smooth_wei rel_sparse_wei\n",
      "+--------+ +-----------+ +------------+ +------------+ +--------+ +---------+ +------------+ +------------+\n",
      "6          1             13             48             1          VALID       1.0            0.0           \n",
      "6          2             3              48             1          SAME        0.0            1.0           \n",
      "6          3             3              48             1          SAME        0.0            1.0           \n",
      " (3 tuples)\n",
      "\n",
      "Region 3\n",
      "*net_id    *layer_num    filter_size    out_channels   stride     padding     rel_smooth_wei rel_sparse_wei\n",
      "+--------+ +-----------+ +------------+ +------------+ +--------+ +---------+ +------------+ +------------+\n",
      "9          1             13             48             1          VALID       1.0            0.0           \n",
      "9          2             8              48             1          SAME        1.0            1.0           \n",
      "9          3             8              48             1          SAME        1.0            1.0           \n",
      " (3 tuples)\n",
      "\n"
     ]
    }
   ],
   "source": [
    "for i, k in enumerate(best_net_key['CNN 3 layers']):\n",
    "    print('Region {:d}'.format(i+1))\n",
    "    print(Net.ConvLayer() & k)"
   ]
  },
  {
   "cell_type": "markdown",
   "metadata": {
    "deletable": true,
    "editable": true
   },
   "source": [
    "### CNN with fixed location mask estimated in advance"
   ]
  },
  {
   "cell_type": "code",
   "execution_count": 7,
   "metadata": {
    "collapsed": false,
    "deletable": true,
    "editable": true
   },
   "outputs": [
    {
     "name": "stdout",
     "output_type": "stream",
     "text": [
      "Region 1\n",
      "*net_id    *layer_num    filter_size    out_channels   stride     padding     rel_smooth_wei rel_sparse_wei\n",
      "+--------+ +-----------+ +------------+ +------------+ +--------+ +---------+ +------------+ +------------+\n",
      "2          1             13             48             1          VALID       1.0            0.0           \n",
      "2          2             3              48             1          SAME        0.0            1.0           \n",
      "2          3             3              48             1          SAME        0.0            1.0           \n",
      " (3 tuples)\n",
      "\n",
      "Region 2\n",
      "*net_id    *layer_num    filter_size    out_channels   stride     padding     rel_smooth_wei rel_sparse_wei\n",
      "+--------+ +-----------+ +------------+ +------------+ +--------+ +---------+ +------------+ +------------+\n",
      "2          1             13             48             1          VALID       1.0            0.0           \n",
      "2          2             3              48             1          SAME        0.0            1.0           \n",
      "2          3             3              48             1          SAME        0.0            1.0           \n",
      " (3 tuples)\n",
      "\n",
      "Region 3\n",
      "*net_id    *layer_num    filter_size    out_channels   stride     padding     rel_smooth_wei rel_sparse_wei\n",
      "+--------+ +-----------+ +------------+ +------------+ +--------+ +---------+ +------------+ +------------+\n",
      "2          1             13             48             1          VALID       1.0            0.0           \n",
      "2          2             3              48             1          SAME        0.0            1.0           \n",
      "2          3             3              48             1          SAME        0.0            1.0           \n",
      " (3 tuples)\n",
      "\n"
     ]
    }
   ],
   "source": [
    "for i, k in enumerate(best_net_key['CNN fixed mask']):\n",
    "    print('Region {:d}'.format(i+1))\n",
    "    print(NetFixedMask.ConvLayer() & k)"
   ]
  },
  {
   "cell_type": "markdown",
   "metadata": {
    "deletable": true,
    "editable": true
   },
   "source": [
    "### CNN with fully-connected readout"
   ]
  },
  {
   "cell_type": "code",
   "execution_count": 8,
   "metadata": {
    "collapsed": false,
    "deletable": true,
    "editable": true
   },
   "outputs": [
    {
     "name": "stdout",
     "output_type": "stream",
     "text": [
      "Region 1\n",
      "*net_id    *layer_num    filter_size    out_channels   stride     padding     rel_smooth_wei rel_sparse_wei\n",
      "+--------+ +-----------+ +------------+ +------------+ +--------+ +---------+ +------------+ +------------+\n",
      "8          1             13             48             1          VALID       1.0            0.0           \n",
      "8          2             3              32             1          SAME        0.0            1.0           \n",
      "8          3             3              4              1          SAME        0.0            1.0           \n",
      " (3 tuples)\n",
      "\n",
      "Region 2\n",
      "*net_id    *layer_num    filter_size    out_channels   stride     padding     rel_smooth_wei rel_sparse_wei\n",
      "+--------+ +-----------+ +------------+ +------------+ +--------+ +---------+ +------------+ +------------+\n",
      "1          1             13             32             1          VALID       1.0            0.0           \n",
      "1          2             3              16             1          SAME        0.0            1.0           \n",
      "1          3             3              4              1          SAME        0.0            1.0           \n",
      " (3 tuples)\n",
      "\n",
      "Region 3\n",
      "*net_id    *layer_num    filter_size    out_channels   stride     padding     rel_smooth_wei rel_sparse_wei\n",
      "+--------+ +-----------+ +------------+ +------------+ +--------+ +---------+ +------------+ +------------+\n",
      "8          1             13             48             1          VALID       1.0            0.0           \n",
      "8          2             3              32             1          SAME        0.0            1.0           \n",
      "8          3             3              4              1          SAME        0.0            1.0           \n",
      " (3 tuples)\n",
      "\n"
     ]
    }
   ],
   "source": [
    "for i, k in enumerate(best_net_key['CNN fully-connected readout']):\n",
    "    print('Region {:d}'.format(i+1))\n",
    "    print(NetFC.ConvLayer() & k)"
   ]
  }
 ],
 "metadata": {
  "kernelspec": {
   "display_name": "Python 3",
   "language": "python",
   "name": "python3"
  },
  "language_info": {
   "codemirror_mode": {
    "name": "ipython",
    "version": 3
   },
   "file_extension": ".py",
   "mimetype": "text/x-python",
   "name": "python",
   "nbconvert_exporter": "python",
   "pygments_lexer": "ipython3",
   "version": "3.4.3"
  }
 },
 "nbformat": 4,
 "nbformat_minor": 2
}
